{
 "cells": [
  {
   "cell_type": "code",
   "execution_count": 2,
   "metadata": {
    "collapsed": true
   },
   "outputs": [],
   "source": [
    "# The architecture of our CNN is given in Figure 1. The structure\n",
    "# can be summarized as 10×10x1−26×26×4−100−M,\n",
    "# where M is the number of classes. The input is a grayscale\n",
    "# image patch. The size of the image patch is 28×28 pixels. Our\n",
    "# CNN architecture contains only one convolution layer which\n",
    "# consists of 4 kernels. The size of each kernel is 3 × 3 pixels.\n",
    "# Unlike other traditional CNN architecture, the pooling layer is\n",
    "# not used in our architecture. Then one fully connected layer\n",
    "# of 100 neurons follows the convolution layer. The last layer\n",
    "# consists of a logistic regression with softmax which outputs\n",
    "# the probability of each class, such that"
   ]
  },
  {
   "cell_type": "code",
   "execution_count": 218,
   "metadata": {},
   "outputs": [],
   "source": [
    "from __future__ import print_function\n",
    "import torch\n",
    "import numpy as np\n",
    "from torch.autograd import Variable\n",
    "import torch.nn as nn\n",
    "import torch.nn.functional as F\n",
    "import torch.optim as optim\n",
    "import pickle\n",
    "from torch.utils.data import DataLoader\n",
    "import matplotlib.pyplot as plt\n",
    "import torchvision\n",
    "import cv2\n",
    "from PIL import Image"
   ]
  },
  {
   "cell_type": "code",
   "execution_count": 231,
   "metadata": {},
   "outputs": [
    {
     "data": {
      "text/plain": [
       "(21643, 2)"
      ]
     },
     "execution_count": 231,
     "metadata": {},
     "output_type": "execute_result"
    }
   ],
   "source": [
    "'''\n",
    "Get train data\n",
    "'''\n",
    "training_data = pickle.load(open('training_data.pkl','r'))\n",
    "\n",
    "training_data = np.array(training_data)\n",
    "training_data = training_data #Test on first 2000 image segments\n",
    "\n",
    "X_Train = training_data[:,0]\n",
    "y_Train = training_data[:,1]\n",
    "\n",
    "training_data.shape"
   ]
  },
  {
   "cell_type": "code",
   "execution_count": 232,
   "metadata": {},
   "outputs": [
    {
     "data": {
      "text/plain": [
       "(1728, 2)"
      ]
     },
     "execution_count": 232,
     "metadata": {},
     "output_type": "execute_result"
    }
   ],
   "source": [
    "'''\n",
    "Get Validation data\n",
    "'''\n",
    "validation_data = pickle.load(open('validation_data.pkl','r'))\n",
    "\n",
    "validation_data = np.array(validation_data)\n",
    "validation_data = validation_data \n",
    "\n",
    "X_Valid = validation_data[:,0]\n",
    "y_Valid = validation_data[:,1]\n",
    "\n",
    "validation_data.shape"
   ]
  },
  {
   "cell_type": "code",
   "execution_count": 233,
   "metadata": {},
   "outputs": [
    {
     "data": {
      "text/plain": [
       "(10368, 2)"
      ]
     },
     "execution_count": 233,
     "metadata": {},
     "output_type": "execute_result"
    }
   ],
   "source": [
    "'''\n",
    "Get Test data\n",
    "'''\n",
    "test_data = pickle.load(open('test_data.pkl','r'))\n",
    "\n",
    "test_data = np.array(test_data)\n",
    "# validation_data = validation_data \n",
    "\n",
    "X_Test = test_data[:,0]\n",
    "y_Test = test_data[:,1]\n",
    "\n",
    "test_data.shape"
   ]
  },
  {
   "cell_type": "code",
   "execution_count": 259,
   "metadata": {
    "collapsed": true
   },
   "outputs": [],
   "source": [
    "class Net(nn.Module):\n",
    "\n",
    "    def __init__(self): # DO NOT HARDCODE\n",
    "        super(Net, self).__init__()\n",
    "        # 1 input image channel 10x10, 4 output channels, 3x3 square convolution\n",
    "        self.conv1 = nn.Conv2d(1, 4, 3)\n",
    "        #self.dropout = nn.Dropout(0.5)\n",
    "        # an affine operation: y = Wx + b\n",
    "        self.fc1 = nn.Linear(4 * 8 * 8, 100)\n",
    "        self.fc2 = nn.Linear(100, 2) #Number of classes = 'text'\n",
    "#         self.sigmoid = nn.Sigmoid()\n",
    "\n",
    "    def forward(self, x):\n",
    "        x = F.relu(self.conv1(x))\n",
    "        x = x.view(-1, self.num_flat_features(x))\n",
    "        #         dropout with 0.5\n",
    "        #x = self.dropout(x)\n",
    "        x = F.relu(self.fc1(x))\n",
    "        x = self.fc2(x)\n",
    "        #out = self.sigmoid(x)\n",
    "        x = F.log_softmax(x)\n",
    "        return x\n",
    "\n",
    "    def num_flat_features(self, x):\n",
    "        size = x.size()[1:]  # all dimensions except the batch dimension\n",
    "        num_features = 1\n",
    "        for s in size:\n",
    "            num_features *= s\n",
    "        return num_features"
   ]
  },
  {
   "cell_type": "code",
   "execution_count": 260,
   "metadata": {},
   "outputs": [
    {
     "name": "stdout",
     "output_type": "stream",
     "text": [
      "Net (\n",
      "  (conv1): Conv2d(1, 4, kernel_size=(3, 3), stride=(1, 1))\n",
      "  (fc1): Linear (256 -> 100)\n",
      "  (fc2): Linear (100 -> 2)\n",
      ")\n"
     ]
    }
   ],
   "source": [
    "net = Net()\n",
    "print(net)"
   ]
  },
  {
   "cell_type": "code",
   "execution_count": 261,
   "metadata": {},
   "outputs": [
    {
     "name": "stdout",
     "output_type": "stream",
     "text": [
      "6\n",
      "torch.Size([4, 1, 3, 3])\n"
     ]
    }
   ],
   "source": [
    "# Total number of learnable parameters\n",
    "params = list(net.parameters())\n",
    "print(len(params))\n",
    "print(params[0].size())"
   ]
  },
  {
   "cell_type": "code",
   "execution_count": 262,
   "metadata": {
    "collapsed": true
   },
   "outputs": [],
   "source": [
    "# Preparing the data\n",
    "trainloader = DataLoader(training_data.tolist(), batch_size=1, shuffle=True)\n",
    "validloader = DataLoader(validation_data.tolist())\n",
    "testloader = DataLoader(test_data.tolist())"
   ]
  },
  {
   "cell_type": "code",
   "execution_count": 263,
   "metadata": {
    "collapsed": true
   },
   "outputs": [],
   "source": [
    "# criterion = nn.CrossEntropyLoss()\n",
    "criterion = nn.NLLLoss()\n",
    "optimizer = optim.SGD(net.parameters(), lr=0.01)\n",
    "optimizer.zero_grad()"
   ]
  },
  {
   "cell_type": "code",
   "execution_count": null,
   "metadata": {
    "collapsed": true
   },
   "outputs": [],
   "source": [
    "\n",
    "    "
   ]
  },
  {
   "cell_type": "code",
   "execution_count": 264,
   "metadata": {
    "collapsed": true
   },
   "outputs": [],
   "source": [
    "def validation_function(validloader, net, optimizer, criterion):\n",
    "    running_loss = 0.0\n",
    "    correct = 0\n",
    "    total = 0\n",
    "    net.eval()\n",
    "    for i, data in enumerate(validloader, 0):\n",
    "        # get the inputs\n",
    "        inputs, labels = data\n",
    "\n",
    "        # wrap them in Variable\n",
    "        inputs, labels_var = Variable(inputs.unsqueeze(0).float(), volatile=True), Variable(labels.long(), volatile=True)\n",
    "\n",
    "        outputs = net(inputs)\n",
    "        loss = criterion(outputs, labels_var)\n",
    "\n",
    "        # print statistics\n",
    "        running_loss += loss.data[0]\n",
    "        _, predicted = torch.max(outputs.data, 1)\n",
    "        total += labels.size(0)\n",
    "        correct += (predicted == labels).sum()\n",
    "    print(\"****** running_loss = \",running_loss)\n",
    "    print('Accuracy of the network on the 1728 validation images: %d %%' % (100 * correct / total))\n",
    "    "
   ]
  },
  {
   "cell_type": "code",
   "execution_count": 265,
   "metadata": {
    "collapsed": true
   },
   "outputs": [],
   "source": [
    "def test_function(testloader, net, optimizer, criterion):\n",
    "    running_loss = 0.0\n",
    "    correct = 0\n",
    "    total = 0\n",
    "    net.eval()\n",
    "    predicted_list = []\n",
    "    for i, data in enumerate(testloader, 0):\n",
    "        # get the inputs\n",
    "        inputs, labels = data\n",
    "\n",
    "        # wrap them in Variable\n",
    "        inputs, labels_var = Variable(inputs.unsqueeze(0).float()), Variable(labels.long())\n",
    "\n",
    "        outputs = net(inputs)\n",
    "        loss = criterion(outputs, labels_var)\n",
    "        \n",
    "        # print statistics\n",
    "        running_loss += loss.data[0]\n",
    "\n",
    "        _, predicted = torch.max(outputs.data, 1)\n",
    "        predicted_list.append(predicted)\n",
    "        total += labels.size(0)\n",
    "        correct += (predicted == labels).sum()\n",
    "    print(\"****** running_loss = \",running_loss)\n",
    "    print('Accuracy of the network on the 10368 test images: %d %%' % (100 * correct / total))\n",
    "    return predicted_list\n",
    "    "
   ]
  },
  {
   "cell_type": "code",
   "execution_count": 266,
   "metadata": {
    "collapsed": true
   },
   "outputs": [],
   "source": [
    "def train_function(trainloader, net, optimizer, criterion):\n",
    "    running_loss = 0.0\n",
    "    correct = 0\n",
    "    total = 0\n",
    "    net.train()\n",
    "    \n",
    "    for i, data in enumerate(trainloader, 0):\n",
    "        # get the inputs\n",
    "        inputs, labels = data\n",
    "        \n",
    "        # wrap them in Variable\n",
    "        inputs, labels_var = Variable(inputs.unsqueeze(0).float()), Variable(labels.long())\n",
    "\n",
    "        # zero the parameter gradients\n",
    "        optimizer.zero_grad()\n",
    "\n",
    "        # forward + backward + optimize\n",
    "        outputs = net(inputs)\n",
    "        loss = criterion(outputs, labels_var)\n",
    "        loss.backward()\n",
    "        optimizer.step()\n",
    "\n",
    "        # print statistics\n",
    "        running_loss += loss.data[0]\n",
    "#         if i % 2000 == 1999:    # print every 2000 mini-batches\n",
    "#             print('[%d, %5d] loss: %.3f' %\n",
    "#                   (epoch + 1, i + 1, running_loss / 2000))\n",
    "#             running_loss = 0.0\n",
    "        _, predicted = torch.max(outputs.data, 1)\n",
    "#         print ('predicted: %d' % (predicted))\n",
    "        total += labels.size(0)\n",
    "        correct += (predicted == labels).sum()\n",
    "    print(\"****** running_loss = \",running_loss)\n",
    "    print('Accuracy of the network on the 21643 train images: %d %%' % (100 * correct / total))\n",
    "    return "
   ]
  },
  {
   "cell_type": "code",
   "execution_count": 267,
   "metadata": {},
   "outputs": [
    {
     "name": "stdout",
     "output_type": "stream",
     "text": [
      "Accuracy of the network on the 21643 train images: 62 %\n",
      "Accuracy of the network on the 1728 validation images: 63 %\n",
      "Accuracy of the network on the 10368 test images: 61 %\n",
      "Accuracy of the network on the 21643 train images: 62 %\n",
      "Accuracy of the network on the 1728 validation images: 63 %\n",
      "Accuracy of the network on the 10368 test images: 61 %\n",
      "Accuracy of the network on the 21643 train images: 62 %\n",
      "Accuracy of the network on the 1728 validation images: 63 %\n",
      "Accuracy of the network on the 10368 test images: 61 %\n",
      "Accuracy of the network on the 21643 train images: 62 %\n",
      "Accuracy of the network on the 1728 validation images: 63 %\n",
      "Accuracy of the network on the 10368 test images: 61 %\n",
      "Accuracy of the network on the 21643 train images: 62 %\n",
      "Accuracy of the network on the 1728 validation images: 63 %\n",
      "Accuracy of the network on the 10368 test images: 61 %\n"
     ]
    }
   ],
   "source": [
    "# Training Phase\n",
    "# net = Net()\n",
    "for epoch in range(5):  # loop over the dataset multiple times\n",
    "    train_function(trainloader, net, optimizer, criterion)\n",
    "    validation_function(validloader, net, optimizer, criterion)\n",
    "    predicted_list = test_function(testloader, net, optimizer, criterion)\n",
    "    print (\"---------------------------\")"
   ]
  },
  {
   "cell_type": "code",
   "execution_count": null,
   "metadata": {},
   "outputs": [],
   "source": []
  },
  {
   "cell_type": "code",
   "execution_count": 144,
   "metadata": {},
   "outputs": [],
   "source": [
    "# IGNORE THE CODE FROM HERE\n",
    "\n",
    "new_pr = []\n",
    "for pr in predicted_list:\n",
    "    new_pr.append(pr[0])\n",
    "new_pr = np.array(new_pr) \n",
    "new_pr = new_pr.reshape(12,36,24)\n",
    "sample= np.array(new_pr[0])"
   ]
  },
  {
   "cell_type": "code",
   "execution_count": 55,
   "metadata": {},
   "outputs": [
    {
     "data": {
      "text/plain": [
       "0.6121809637888141"
      ]
     },
     "execution_count": 55,
     "metadata": {},
     "output_type": "execute_result"
    }
   ],
   "source": [
    "(len(predicted_list) - np.count_nonzero(y_Test))/float(len(predicted_list))"
   ]
  },
  {
   "cell_type": "code",
   "execution_count": 121,
   "metadata": {},
   "outputs": [
    {
     "data": {
      "text/plain": [
       "array([[\n",
       " 0\n",
       "[torch.LongTensor of size 1]\n",
       ",\n",
       "        \n",
       " 0\n",
       "[torch.LongTensor of size 1]\n",
       ",\n",
       "        \n",
       " 0\n",
       "[torch.LongTensor of size 1]\n",
       ", ...,\n",
       "        \n",
       " 1\n",
       "[torch.LongTensor of size 1]\n",
       ",\n",
       "        \n",
       " 1\n",
       "[torch.LongTensor of size 1]\n",
       ", \n",
       " 1\n",
       "[torch.LongTensor of size 1]\n",
       "],\n",
       "       [\n",
       " 0\n",
       "[torch.LongTensor of size 1]\n",
       ",\n",
       "        \n",
       " 0\n",
       "[torch.LongTensor of size 1]\n",
       ",\n",
       "        \n",
       " 1\n",
       "[torch.LongTensor of size 1]\n",
       ", ...,\n",
       "        \n",
       " 0\n",
       "[torch.LongTensor of size 1]\n",
       ",\n",
       "        \n",
       " 1\n",
       "[torch.LongTensor of size 1]\n",
       ", \n",
       " 1\n",
       "[torch.LongTensor of size 1]\n",
       "],\n",
       "       [\n",
       " 0\n",
       "[torch.LongTensor of size 1]\n",
       ",\n",
       "        \n",
       " 0\n",
       "[torch.LongTensor of size 1]\n",
       ",\n",
       "        \n",
       " 0\n",
       "[torch.LongTensor of size 1]\n",
       ", ...,\n",
       "        \n",
       " 0\n",
       "[torch.LongTensor of size 1]\n",
       ",\n",
       "        \n",
       " 0\n",
       "[torch.LongTensor of size 1]\n",
       ", \n",
       " 1\n",
       "[torch.LongTensor of size 1]\n",
       "],\n",
       "       ..., \n",
       "       [\n",
       " 1\n",
       "[torch.LongTensor of size 1]\n",
       ",\n",
       "        \n",
       " 0\n",
       "[torch.LongTensor of size 1]\n",
       ",\n",
       "        \n",
       " 0\n",
       "[torch.LongTensor of size 1]\n",
       ", ...,\n",
       "        \n",
       " 1\n",
       "[torch.LongTensor of size 1]\n",
       ",\n",
       "        \n",
       " 0\n",
       "[torch.LongTensor of size 1]\n",
       ", \n",
       " 0\n",
       "[torch.LongTensor of size 1]\n",
       "],\n",
       "       [\n",
       " 0\n",
       "[torch.LongTensor of size 1]\n",
       ",\n",
       "        \n",
       " 0\n",
       "[torch.LongTensor of size 1]\n",
       ",\n",
       "        \n",
       " 0\n",
       "[torch.LongTensor of size 1]\n",
       ", ...,\n",
       "        \n",
       " 1\n",
       "[torch.LongTensor of size 1]\n",
       ",\n",
       "        \n",
       " 0\n",
       "[torch.LongTensor of size 1]\n",
       ", \n",
       " 0\n",
       "[torch.LongTensor of size 1]\n",
       "],\n",
       "       [\n",
       " 0\n",
       "[torch.LongTensor of size 1]\n",
       ",\n",
       "        \n",
       " 1\n",
       "[torch.LongTensor of size 1]\n",
       ",\n",
       "        \n",
       " 0\n",
       "[torch.LongTensor of size 1]\n",
       ", ...,\n",
       "        \n",
       " 1\n",
       "[torch.LongTensor of size 1]\n",
       ",\n",
       "        \n",
       " 0\n",
       "[torch.LongTensor of size 1]\n",
       ", \n",
       " 0\n",
       "[torch.LongTensor of size 1]\n",
       "]], dtype=object)"
      ]
     },
     "execution_count": 121,
     "metadata": {},
     "output_type": "execute_result"
    }
   ],
   "source": [
    "predicted_list = np.array(predicted_list)\n",
    "predicted_list = predicted_list.reshape(12,864)\n",
    "predicted_list"
   ]
  },
  {
   "cell_type": "code",
   "execution_count": 150,
   "metadata": {},
   "outputs": [
    {
     "data": {
      "image/png": "[encoded data removed]",
      "text/plain": [
       "<matplotlib.figure.Figure at 0x11d0627d0>"
      ]
     },
     "metadata": {},
     "output_type": "display_data"
    }
   ],
   "source": [
    "plt.imshow(sample, interpolation='nearest', cmap = 'gray')\n",
    "plt.show()"
   ]
  },
  {
   "cell_type": "code",
   "execution_count": 89,
   "metadata": {},
   "outputs": [],
   "source": [
    "im_values = []\n",
    "for pred in predicted_list:\n",
    "    val = pred.numpy()\n",
    "    if val[0] == 1:\n",
    "        val[0] = 255\n",
    "        im = np.full((5, 5), 0)\n",
    "    else:\n",
    "        val[0] = 1\n",
    "        im = np.full((5, 5), 255)\n",
    "    \n",
    "    im_values.append(im)    "
   ]
  },
  {
   "cell_type": "code",
   "execution_count": null,
   "metadata": {},
   "outputs": [],
   "source": []
  },
  {
   "cell_type": "code",
   "execution_count": null,
   "metadata": {},
   "outputs": [],
   "source": []
  },
  {
   "cell_type": "code",
   "execution_count": null,
   "metadata": {
    "collapsed": true
   },
   "outputs": [],
   "source": []
  },
  {
   "cell_type": "code",
   "execution_count": null,
   "metadata": {
    "collapsed": true
   },
   "outputs": [],
   "source": []
  },
  {
   "cell_type": "code",
   "execution_count": null,
   "metadata": {
    "collapsed": true
   },
   "outputs": [],
   "source": []
  },
  {
   "cell_type": "code",
   "execution_count": 83,
   "metadata": {
    "collapsed": true
   },
   "outputs": [],
   "source": [
    "training_data = pickle.load(open('training_data.pkl','r'))\n",
    "\n",
    "training_data = np.array(training_data)\n",
    "\n",
    "X_Train = training_data[:,0]\n",
    "y_Train = training_data[:,1]\n",
    "\n",
    "N = len(X_Train)\n",
    "H = X_Train[0].shape[0]\n",
    "W = X_Train[0].shape[1]\n",
    "trainTensor = torch.LongTensor(N, H, W)\n",
    "for i in range(N):\n",
    "    trainTensor[i] = torch.LongTensor(X_Train[i].tolist())\n",
    "trainTensor = trainTensor.unsqueeze(1)"
   ]
  },
  {
   "cell_type": "code",
   "execution_count": 74,
   "metadata": {},
   "outputs": [
    {
     "data": {
      "text/plain": [
       "array([[109, 106, 105, 100,  98,  98,  98,  94,  95,  90],\n",
       "       [ 38,  48,  44,  32,  38,  35,  36,  29,  33,  29],\n",
       "       [ 24,  22,  24,  24,  21,  22,  22,  20,  19,  21],\n",
       "       [  8,   8,   7,   8,  10,  10,   8,   8,   9,   8],\n",
       "       [ 23,  21,  21,   8,  19,   3,  24,  30,  26,  22],\n",
       "       [  7,   7,   5,   4,   7,   9,   8,   7,   6,   7],\n",
       "       [  1,   0,   0,   0,   1,   7,   2,   2,   3,   1],\n",
       "       [ 13,   7,   3,   4,   2,   7,  11,   4,   9,   9],\n",
       "       [ 18,  23,  36,  18,  28,  28,  37,  47,  39,  50],\n",
       "       [ 24,  35,  31,  51,  10,  55,  66,  77,  67,  61]], dtype=uint8)"
      ]
     },
     "execution_count": 74,
     "metadata": {},
     "output_type": "execute_result"
    }
   ],
   "source": [
    "X_Train[0]"
   ]
  },
  {
   "cell_type": "code",
   "execution_count": null,
   "metadata": {},
   "outputs": [],
   "source": []
  },
  {
   "cell_type": "code",
   "execution_count": 71,
   "metadata": {
    "collapsed": true
   },
   "outputs": [],
   "source": [
    "dataiter = iter(trainloader)\n",
    "images, labels = dataiter.next()"
   ]
  },
  {
   "cell_type": "code",
   "execution_count": 85,
   "metadata": {},
   "outputs": [
    {
     "data": {
      "text/plain": [
       "\n",
       "(0 ,.,.) = \n",
       "  109  106  105  100   98   98   98   94   95   90\n",
       "   38   48   44   32   38   35   36   29   33   29\n",
       "   24   22   24   24   21   22   22   20   19   21\n",
       "    8    8    7    8   10   10    8    8    9    8\n",
       "   23   21   21    8   19    3   24   30   26   22\n",
       "    7    7    5    4    7    9    8    7    6    7\n",
       "    1    0    0    0    1    7    2    2    3    1\n",
       "   13    7    3    4    2    7   11    4    9    9\n",
       "   18   23   36   18   28   28   37   47   39   50\n",
       "   24   35   31   51   10   55   66   77   67   61\n",
       "[torch.ByteTensor of size 1x10x10]"
      ]
     },
     "execution_count": 85,
     "metadata": {},
     "output_type": "execute_result"
    }
   ],
   "source": [
    "\n",
    "dataiter = iter(trainloader)\n",
    "images, label = dataiter.next()\n",
    "images"
   ]
  },
  {
   "cell_type": "code",
   "execution_count": 119,
   "metadata": {},
   "outputs": [
    {
     "data": {
      "text/plain": [
       "Variable containing:\n",
       "(0 ,0 ,.,.) = \n",
       "  244  247  238  233  232  218  229  228  214  231\n",
       "  229  239  245  212  216  228  212  216  210  222\n",
       "  226  225  233  219  236  222  233  235  234  229\n",
       "  238  233  242  232  235  227  233  229  230  232\n",
       "  240  237  226  229  226  234  208  234  218  231\n",
       "  231  226  232  231  214  219  228  238  223  217\n",
       "  191  212  191  226  214  159  186  220  211  213\n",
       "  236  232  227  226  217  185  223  208  216  208\n",
       "  229  224  228  233  227  219  226  208  217  208\n",
       "  221  230  217  221  232  225  232  220  202  215\n",
       "[torch.FloatTensor of size 1x1x10x10]"
      ]
     },
     "execution_count": 119,
     "metadata": {},
     "output_type": "execute_result"
    }
   ],
   "source": [
    "inputs"
   ]
  },
  {
   "cell_type": "code",
   "execution_count": 149,
   "metadata": {},
   "outputs": [
    {
     "data": {
      "text/plain": [
       "Variable containing:\n",
       " 0\n",
       " 1\n",
       "[torch.FloatTensor of size 2]"
      ]
     },
     "execution_count": 149,
     "metadata": {},
     "output_type": "execute_result"
    }
   ],
   "source": [
    "Variable(torch.arange(0, 2))"
   ]
  },
  {
   "cell_type": "code",
   "execution_count": 52,
   "metadata": {
    "collapsed": true
   },
   "outputs": [],
   "source": [
    "input_t= Variable(torch.randn(3, 5), requires_grad=True)"
   ]
  },
  {
   "cell_type": "code",
   "execution_count": 53,
   "metadata": {},
   "outputs": [
    {
     "data": {
      "text/plain": [
       "Variable containing:\n",
       " 0.3829  0.5494 -1.1376 -0.6053 -1.3948\n",
       " 0.0361 -0.4575  1.0598 -0.5977 -2.6812\n",
       "-1.4205 -1.7733 -0.0889  0.7921 -0.2184\n",
       "[torch.FloatTensor of size 3x5]"
      ]
     },
     "execution_count": 53,
     "metadata": {},
     "output_type": "execute_result"
    }
   ],
   "source": [
    "input_t"
   ]
  },
  {
   "cell_type": "code",
   "execution_count": null,
   "metadata": {
    "collapsed": true
   },
   "outputs": [],
   "source": []
  }
 ],
 "metadata": {
  "kernelspec": {
   "display_name": "Python 2",
   "language": "python",
   "name": "python2"
  },
  "language_info": {
   "codemirror_mode": {
    "name": "ipython",
    "version": 2
   },
   "file_extension": ".py",
   "mimetype": "text/x-python",
   "name": "python",
   "nbconvert_exporter": "python",
   "pygments_lexer": "ipython2",
   "version": "2.7.13"
  }
 },
 "nbformat": 4,
 "nbformat_minor": 2
}
