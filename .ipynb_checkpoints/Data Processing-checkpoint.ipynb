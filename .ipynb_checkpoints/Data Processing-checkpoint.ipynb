{
 "cells": [
  {
   "cell_type": "code",
   "execution_count": 2,
   "metadata": {
    "collapsed": true
   },
   "outputs": [],
   "source": [
    "import xml.etree.ElementTree as ET\n",
    "import numpy as np\n",
    "from shapely.geometry import Point\n",
    "from shapely.geometry.polygon import Polygon\n",
    "from skimage.util import img_as_float\n",
    "from skimage import io, color\n",
    "from scipy import misc\n",
    "from skimage.segmentation import slic, mark_boundaries\n",
    "import cv2\n",
    "import matplotlib.pyplot as plt\n",
    "import pickle\n",
    "from os import listdir, rename\n",
    "from os.path import isfile, join"
   ]
  },
  {
   "cell_type": "code",
   "execution_count": 3,
   "metadata": {
    "collapsed": true
   },
   "outputs": [],
   "source": [
    "'''\n",
    "Given XML file, gets the xy positions for text block\n",
    "'''\n",
    "def get_xy_coordinates(filename):    \n",
    "    # Give location of XML document\n",
    "    tree = ET.parse(filename)\n",
    "#     tree = ET.parse('d-006_kai.chen@unifr.ch.xml')\n",
    "    root = tree.getroot()\n",
    "\n",
    "    # Get the page\n",
    "    for child in root:\n",
    "        if child.tag == 'Page':\n",
    "            page = child\n",
    "\n",
    "    # Identify all (x,y) corresponding to text blok\n",
    "    coordinates_extended = []\n",
    "    coordinates_appended = []\n",
    "    for region in page.findall('TextRegion'):\n",
    "        coords = region.find('Coords')\n",
    "        label = region.get('type')\n",
    "        if label=='text':\n",
    "#             labels.append(label)\n",
    "            xy = []\n",
    "            for point in coords.findall('Point'):\n",
    "                x = int(point.get('x'))\n",
    "                y = int(point.get('y'))\n",
    "                x = x*0.125\n",
    "                y = y*0.125\n",
    "                xy.append((x,y))\n",
    "            coordinates_extended.extend(xy)\n",
    "            coordinates_appended.append(xy)\n",
    "    # return\n",
    "    return coordinates_extended, coordinates_appended"
   ]
  },
  {
   "cell_type": "code",
   "execution_count": 4,
   "metadata": {
    "collapsed": true
   },
   "outputs": [],
   "source": [
    "'''\n",
    "Reads the image and scales it by a factor of 2^-3\n",
    "'''\n",
    "def read_image(img_file):\n",
    "    # Read input image\n",
    "    image = img_as_float(io.imread(img_file))\n",
    "    image = color.rgb2gray(io.imread(img_file))\n",
    "    image = misc.imresize(image, 0.125, interp='nearest', mode=None)\n",
    "    # plt.imshow(image, cmap='gray')\n",
    "    # plt.show()\n",
    "    return image"
   ]
  },
  {
   "cell_type": "code",
   "execution_count": 5,
   "metadata": {
    "collapsed": true
   },
   "outputs": [],
   "source": [
    "'''\n",
    "Creat image segments using SLIC.\n",
    "Returns: mask and the pixel intensities for every region.\n",
    "'''\n",
    "def SLIC(num):\n",
    "    masks = []\n",
    "    Regions = []\n",
    "    segments = slic(image, n_segments = num)\n",
    "    \n",
    "    for (i, segVal) in enumerate(np.unique(segments)):\n",
    "        # construct a mask for the segment\n",
    "        mask = np.zeros(image.shape[:2], dtype = \"uint8\")\n",
    "        mask[segments == segVal] = 255\n",
    "        seg = cv2.bitwise_and(image, image, mask = mask)\n",
    "        r = cv2.bitwise_and(image, image, mask = mask)\n",
    "        masks.append(mask)\n",
    "        Regions.append(r)\n",
    "    masks = np.array(masks)\n",
    "    Regions = np.array(Regions)\n",
    "    return masks, Regions, segments"
   ]
  },
  {
   "cell_type": "code",
   "execution_count": 6,
   "metadata": {
    "collapsed": true
   },
   "outputs": [],
   "source": [
    "def view_segments(image, segments):\n",
    "    fig = plt.figure(\"Superpixels -- %d segments\" % (1000))\n",
    "    ax = fig.add_subplot(1, 1, 1)\n",
    "    ax.imshow(mark_boundaries(image, segments))\n",
    "    plt.axis(\"off\")\n",
    "\n",
    "    # show the plots\n",
    "    plt.show()"
   ]
  },
  {
   "cell_type": "code",
   "execution_count": 7,
   "metadata": {
    "collapsed": true
   },
   "outputs": [],
   "source": [
    "'''\n",
    "Get input images (kxk) for the CNN and their borders\n",
    "'''\n",
    "def get_images_borders(Regions, total_rows, k, total_cols):\n",
    "    input_images = []\n",
    "    all_coordinates = []\n",
    "    all_coordinates_extened = []\n",
    "#     for i in range(len(Regions)):\n",
    "    i = 0\n",
    "    for r in range(0,total_rows-k+1,k):\n",
    "        for c in range(0,total_cols-k+1,k):\n",
    "            input_images.append(Regions[i][r:r+k,c:c+k])\n",
    "            all_coordinates.append([(r,c),(r,c+k-1),(r+k-1,c+k-1),(r+k-1,c)])\n",
    "            i += 1\n",
    "                \n",
    "#     all_coordinates = np.array(all_coordinates)\n",
    "    input_images = np.array(input_images)\n",
    "    \n",
    "    input_images_f = []\n",
    "    all_coordinates_f = []\n",
    "    # Remove all zero images\n",
    "    for j in range(len(input_images)):\n",
    "        if not (input_images[j]==0).all():\n",
    "            input_images_f.append(input_images[j])\n",
    "            all_coordinates_f.append(all_coordinates[j])\n",
    "            all_coordinates_extened.extend(all_coordinates[j])\n",
    "    return input_images_f, all_coordinates_f, all_coordinates_extened"
   ]
  },
  {
   "cell_type": "code",
   "execution_count": 8,
   "metadata": {
    "collapsed": true
   },
   "outputs": [],
   "source": [
    "def make_training_data(input_images, all_coordinates, xy_append):\n",
    "    training_data = [] # col 0 : Image, col 1 : Label;  Label = 1 => Text\n",
    "    for i in range(len(all_coordinates)):\n",
    "        data = []\n",
    "        coordinate = all_coordinates[i]\n",
    "        img = input_images[i]\n",
    "        data.append(img)\n",
    "        label = 0\n",
    "        for coord in coordinate:\n",
    "            point = Point(coord)\n",
    "            for text_block in xy_append:\n",
    "                polygon = Polygon(text_block) \n",
    "                if polygon.contains(point):\n",
    "                    label = 1\n",
    "                    break\n",
    "            if label == 1:\n",
    "                break\n",
    "        data.append(label)\n",
    "        training_data.append(data)\n",
    "    training_data = np.array(training_data)\n",
    "    return training_data"
   ]
  },
  {
   "cell_type": "code",
   "execution_count": 66,
   "metadata": {
    "collapsed": true
   },
   "outputs": [],
   "source": [
    "'''\n",
    "Calling Functions\n",
    "'''\n",
    "def call_functions(train_pair):\n",
    "    img_path = train_pair[0]\n",
    "    xml_path = train_pair[1]\n",
    "    image = read_image(img_path) # Read Image\n",
    "    masks, Regions, segments = SLIC(1000) # Perform SLIC into 1000 segments\n",
    "    # view_segments(image, segments) # To Plot segments\n",
    "    xy_extend, xy_append = get_xy_coordinates(xml_path) # Get (x,y) from the xml file\n",
    "    k = np.count_nonzero(masks[0][0]) # Get dimension of input image (kxk)\n",
    "    total_rows = Regions.shape[1]\n",
    "    total_columns = Regions.shape[2]\n",
    "    input_images, all_coordinates, all_coordinates_extened = get_images_borders(Regions, total_rows, k, total_columns)\n",
    "    training_data = make_training_data(input_images, all_coordinates, xy_append)"
   ]
  },
  {
   "cell_type": "code",
   "execution_count": 500,
   "metadata": {
    "collapsed": true
   },
   "outputs": [],
   "source": [
    "'''\n",
    "To Dump or load from pickle files\n",
    "'''\n",
    "# pickle_file = open('training_data.pkl', 'wb')\n",
    "# pickle.dump(training_data, pickle_file)\n",
    "# pickle_file.close()\n",
    "# input_images = pickle.load(open('input_images.pkl','r'))\n",
    "# all_coordinates = pickle.load(open('all_coordinates.pkl','r'))\n",
    "training_data = pickle.load(open('training_data.pkl','r'))"
   ]
  },
  {
   "cell_type": "code",
   "execution_count": 502,
   "metadata": {},
   "outputs": [
    {
     "data": {
      "text/plain": [
       "317"
      ]
     },
     "execution_count": 502,
     "metadata": {},
     "output_type": "execute_result"
    }
   ],
   "source": [
    "np.count_nonzero(training_data[:,1])"
   ]
  },
  {
   "cell_type": "code",
   "execution_count": 507,
   "metadata": {
    "collapsed": true
   },
   "outputs": [],
   "source": [
    "def view_segments(input_images):\n",
    "    f, axarr = plt.subplots(10, 10)\n",
    "    for i in range(100):\n",
    "        axarr[i/10,i%10].imshow(input_images[i+30], interpolation='bilinear', cmap='gray')\n",
    "    plt.show()"
   ]
  },
  {
   "cell_type": "code",
   "execution_count": 508,
   "metadata": {
    "collapsed": true
   },
   "outputs": [],
   "source": []
  },
  {
   "cell_type": "code",
   "execution_count": 49,
   "metadata": {},
   "outputs": [],
   "source": [
    "image_path = './page_images'\n",
    "imageFiles = [f for f in listdir(image_path) if isfile(join(image_path, f)) and not f.startswith(\".\")]"
   ]
  },
  {
   "cell_type": "code",
   "execution_count": 47,
   "metadata": {},
   "outputs": [],
   "source": [
    "training_truth_path = './ground-truth/training'\n",
    "trainingFiles = [f for f in listdir(training_truth_path) if isfile(join(training_truth_path, f)) and not f.startswith(\".\")]"
   ]
  },
  {
   "cell_type": "code",
   "execution_count": 50,
   "metadata": {},
   "outputs": [],
   "source": [
    "validation_truth_path = './ground-truth/validation'\n",
    "validationFiles = [f for f in listdir(validation_truth_path) if isfile(join(validation_truth_path, f)) and not f.startswith(\".\")]"
   ]
  },
  {
   "cell_type": "code",
   "execution_count": 52,
   "metadata": {},
   "outputs": [],
   "source": [
    "test_truth_path = './ground-truth/test'\n",
    "testFiles = [f for f in listdir(test_truth_path) if isfile(join(test_truth_path, f)) and not f.startswith(\".\")]"
   ]
  },
  {
   "cell_type": "code",
   "execution_count": 62,
   "metadata": {},
   "outputs": [
    {
     "data": {
      "text/plain": [
       "[('d-006.jpg', 'd-006_kai.chen@unifr.ch.xml'),\n",
       " ('d-008.jpg', 'd-008_kai.chen@unifr.ch.xml'),\n",
       " ('d-010.jpg', 'd-010_kai.chen@unifr.ch.xml'),\n",
       " ('d-034.jpg', 'd-034_kai.chen@unifr.ch.xml'),\n",
       " ('d-036.jpg', 'd-036_kai.chen@unifr.ch.xml'),\n",
       " ('d-038.jpg', 'd-038_kai.chen@unifr.ch.xml'),\n",
       " ('d-043.jpg', 'd-043_kai.chen@unifr.ch.xml'),\n",
       " ('d-124.jpg', 'd-124_kai.chen@unifr.ch.xml'),\n",
       " ('d-126.jpg', 'd-126_mathias.seuret@unifr.ch.xml'),\n",
       " ('d-143.jpg', 'd-143_mathias.seuret@unifr.ch.xml'),\n",
       " ('d-262.jpg', 'd-262_mathias.seuret@unifr.ch.xml'),\n",
       " ('d-264.jpg', 'd-264_mathias.seuret@unifr.ch.xml'),\n",
       " ('d-266.jpg', 'd-266_mathias.seuret@unifr.ch.xml'),\n",
       " ('d-268.jpg', 'd-268_mathias.seuret@unifr.ch.xml'),\n",
       " ('d-270.jpg', 'd-270_mathias.seuret@unifr.ch.xml'),\n",
       " ('d-272.jpg', 'd-272_mathias.seuret@unifr.ch.xml'),\n",
       " ('d-274.jpg', 'd-274_hao.wei@unifr.ch.xml'),\n",
       " ('d-276.jpg', 'd-276_hao.wei@unifr.ch.xml'),\n",
       " ('d-278.jpg', 'd-278_hao.wei@unifr.ch.xml'),\n",
       " ('d-280.jpg', 'd-280_hao.wei@unifr.ch.xml'),\n",
       " ('d-282.jpg', 'd-282_hao.wei@unifr.ch.xml'),\n",
       " ('d-283.jpg', 'd-283_mathias.seuret@unifr.ch.xml'),\n",
       " ('d-286.jpg', 'd-286_hao.wei@unifr.ch.xml'),\n",
       " ('d-288.jpg', 'd-288_hao.wei@unifr.ch.xml')]"
      ]
     },
     "execution_count": 62,
     "metadata": {},
     "output_type": "execute_result"
    }
   ],
   "source": [
    "train = []\n",
    "for path in trainingFiles:\n",
    "    image = path[:5] + '.jpg'\n",
    "    train.append((image, path))\n",
    "train"
   ]
  },
  {
   "cell_type": "code",
   "execution_count": 65,
   "metadata": {},
   "outputs": [
    {
     "data": {
      "text/plain": [
       "array([[ array([[109, 106, 105, 100,  98,  98,  98,  94,  95,  90],\n",
       "       [ 38,  48,  44,  32,  38,  35,  36,  29,  33,  29],\n",
       "       [ 24,  22,  24,  24,  21,  22,  22,  20,  19,  21],\n",
       "       [  8,   8,   7,   8,  10,  10,   8,   8,   9,   8],\n",
       "       [ 23,  21,  21,   8,  19,   3,  24,  30,  26,  22],\n",
       "       [  7,   7,   5,   4,   7,   9,   8,   7,   6,   7],\n",
       "       [  1,   0,   0,   0,   1,   7,   2,   2,   3,   1],\n",
       "       [ 13,   7,   3,   4,   2,   7,  11,   4,   9,   9],\n",
       "       [ 18,  23,  36,  18,  28,  28,  37,  47,  39,  50],\n",
       "       [ 24,  35,  31,  51,  10,  55,  66,  77,  67,  61]], dtype=uint8),\n",
       "        0],\n",
       "       [ array([[80, 72, 72, 66, 60, 54, 51, 54, 45, 52],\n",
       "       [28, 25, 30, 39, 28, 27, 32, 23, 28, 25],\n",
       "       [18, 18, 19, 20, 26, 16, 17, 14, 17, 24],\n",
       "       [11,  7,  7, 11, 13, 16, 17, 20, 18, 15],\n",
       "       [25, 16, 21, 12, 12, 13, 13, 12,  9, 11],\n",
       "       [ 9, 10,  7,  6, 10, 11, 11,  7, 10, 12],\n",
       "       [ 3,  7,  5,  4,  3, 13,  6,  2, 14, 28],\n",
       "       [10, 12, 20, 29, 35, 46, 11, 65, 51, 40],\n",
       "       [43, 42, 38, 38, 47, 36, 19, 21, 54, 28],\n",
       "       [57, 52, 46, 58, 78, 12, 21, 17, 34, 36]], dtype=uint8),\n",
       "        0],\n",
       "       [ array([[55, 62, 64, 58, 66, 75, 81, 76, 76, 76],\n",
       "       [25, 33, 19, 18, 13, 11,  4,  2,  3,  8],\n",
       "       [30, 22, 19, 18, 13,  7,  8,  8,  6,  6],\n",
       "       [17, 13, 15, 12,  8,  9, 10,  6,  8,  3],\n",
       "       [ 7,  6,  8,  9, 10, 17, 13, 16, 17, 18],\n",
       "       [21, 39, 37, 26, 19, 23, 25, 33, 33, 40],\n",
       "       [29, 26, 31, 34, 31, 27, 36, 24, 31, 35],\n",
       "       [59,  8, 17, 26, 52, 29, 38, 16, 24, 85],\n",
       "       [27, 19, 12,  7, 15, 29, 14, 10, 15, 21],\n",
       "       [33, 28, 23, 29, 21, 23, 18, 15, 29, 13]], dtype=uint8),\n",
       "        0],\n",
       "       ..., \n",
       "       [ array([[132, 140, 152, 142, 131, 112, 131, 141, 143, 140],\n",
       "       [134, 148, 147, 125, 129, 116, 116, 131, 137, 132],\n",
       "       [123, 137, 152, 134, 129, 129, 133, 125, 126, 125],\n",
       "       [130, 141, 126, 123, 123, 116, 111, 112, 118, 130],\n",
       "       [115, 132, 125, 115, 100, 102,  97, 115, 121, 121],\n",
       "       [126, 122, 104, 105, 111,  96, 111, 110, 104, 102],\n",
       "       [115, 109,  88,  95, 119,  98, 104, 104, 110,  97],\n",
       "       [102, 107,  95,  84, 106,  96,  99, 109, 108, 110],\n",
       "       [  0,   0,   0,   0,   0,   0,   0,   0,   0,   0],\n",
       "       [  0,   0,   0,   0,   0,   0,   0,   0,   0,   0]], dtype=uint8),\n",
       "        0],\n",
       "       [ array([[142, 149, 134, 147, 156, 146, 149, 144, 160, 160],\n",
       "       [145, 150, 134, 141, 141, 132, 136, 164, 146, 141],\n",
       "       [125, 129, 142, 131, 142, 136, 192, 152, 156, 154],\n",
       "       [123, 129, 135, 122, 130, 151, 214, 148, 132, 127],\n",
       "       [124, 125, 126, 129, 132, 180, 194, 157, 141, 124],\n",
       "       [111, 100, 119, 121, 124, 168, 177,   4, 115, 129],\n",
       "       [107, 116, 107, 115, 104,  30,  91, 135, 103, 112],\n",
       "       [117, 107, 109, 115, 121, 107, 109, 114, 106, 105],\n",
       "       [  0,   0,   0,   0,   0,   0,   0,   0,   0,   0],\n",
       "       [  0,   0,   0,   0,   0,   0,   0,   0,   0,   0]], dtype=uint8),\n",
       "        0],\n",
       "       [ array([[144, 143, 157, 152, 174, 160, 152, 130, 145, 154],\n",
       "       [131, 130, 137, 148, 148, 144, 144, 144, 117, 145],\n",
       "       [136, 153, 143, 122, 124, 123, 118, 128, 127, 137],\n",
       "       [142, 131, 146, 123, 134, 130, 118, 116, 120, 137],\n",
       "       [123, 115, 112, 128, 128, 130, 132, 118, 128, 126],\n",
       "       [111, 106, 100, 115, 101, 120, 115, 124, 122, 132],\n",
       "       [115, 127, 114, 109, 115, 132, 135, 118, 108, 116],\n",
       "       [105, 108, 109, 126, 129, 130, 100, 116, 146, 115],\n",
       "       [  0,   0,   0,   0,   0,   0,   0,   0,   0,   0],\n",
       "       [  0,   0,   0,   0,   0,   0,   0,   0,   0,   0]], dtype=uint8),\n",
       "        0]], dtype=object)"
      ]
     },
     "execution_count": 65,
     "metadata": {},
     "output_type": "execute_result"
    }
   ],
   "source": [
    "training_data"
   ]
  },
  {
   "cell_type": "code",
   "execution_count": null,
   "metadata": {
    "collapsed": true
   },
   "outputs": [],
   "source": []
  }
 ],
 "metadata": {
  "kernelspec": {
   "display_name": "Python 2",
   "language": "python",
   "name": "python2"
  },
  "language_info": {
   "codemirror_mode": {
    "name": "ipython",
    "version": 2
   },
   "file_extension": ".py",
   "mimetype": "text/x-python",
   "name": "python",
   "nbconvert_exporter": "python",
   "pygments_lexer": "ipython2",
   "version": "2.7.13"
  }
 },
 "nbformat": 4,
 "nbformat_minor": 2
}
