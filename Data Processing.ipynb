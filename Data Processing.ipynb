{
 "cells": [
  {
   "cell_type": "code",
   "execution_count": 2,
   "metadata": {
    "collapsed": true
   },
   "outputs": [],
   "source": [
    "import xml.etree.ElementTree as ET\n",
    "import numpy as np\n",
    "from shapely.geometry import Point\n",
    "from shapely.geometry.polygon import Polygon\n",
    "from skimage.util import img_as_float\n",
    "from skimage import io, color\n",
    "from scipy import misc\n",
    "from skimage.segmentation import slic, mark_boundaries\n",
    "import cv2\n",
    "import matplotlib.pyplot as plt\n",
    "import pickle"
   ]
  },
  {
   "cell_type": "code",
   "execution_count": 482,
   "metadata": {
    "collapsed": true
   },
   "outputs": [],
   "source": [
    "'''\n",
    "Given XML file, gets the xy positions for text block\n",
    "'''\n",
    "def get_xy_coordinates(filename):    \n",
    "    # Give location of XML document\n",
    "    tree = ET.parse(filename)\n",
    "#     tree = ET.parse('d-006_kai.chen@unifr.ch.xml')\n",
    "    root = tree.getroot()\n",
    "\n",
    "    # Get the page\n",
    "    for child in root:\n",
    "        if child.tag == 'Page':\n",
    "            page = child\n",
    "\n",
    "    # Identify all (x,y) corresponding to text blok\n",
    "    coordinates_extended = []\n",
    "    coordinates_appended = []\n",
    "    for region in page.findall('TextRegion'):\n",
    "        coords = region.find('Coords')\n",
    "        label = region.get('type')\n",
    "        if label=='text':\n",
    "#             labels.append(label)\n",
    "            xy = []\n",
    "            for point in coords.findall('Point'):\n",
    "                x = int(point.get('x'))\n",
    "                y = int(point.get('y'))\n",
    "                x = x*0.125\n",
    "                y = y*0.125\n",
    "                xy.append((x,y))\n",
    "            coordinates_extended.extend(xy)\n",
    "            coordinates_appended.append(xy)\n",
    "    # return\n",
    "    return coordinates_extended, coordinates_appended"
   ]
  },
  {
   "cell_type": "code",
   "execution_count": 4,
   "metadata": {
    "collapsed": true
   },
   "outputs": [],
   "source": [
    "'''\n",
    "Reads the image and scales it by a factor of 2^-3\n",
    "'''\n",
    "def read_image(img_file):\n",
    "    # Read input image\n",
    "    image = img_as_float(io.imread(img_file))\n",
    "    image = color.rgb2gray(io.imread(img_file))\n",
    "    image = misc.imresize(image, 0.125, interp='nearest', mode=None)\n",
    "    # plt.imshow(image, cmap='gray')\n",
    "    # plt.show()\n",
    "    return image"
   ]
  },
  {
   "cell_type": "code",
   "execution_count": 5,
   "metadata": {
    "collapsed": true
   },
   "outputs": [],
   "source": [
    "'''\n",
    "Creat image segments using SLIC.\n",
    "Returns: mask and the pixel intensities for every region.\n",
    "'''\n",
    "def SLIC(num):\n",
    "    masks = []\n",
    "    Regions = []\n",
    "    segments = slic(image, n_segments = num)\n",
    "    \n",
    "    for (i, segVal) in enumerate(np.unique(segments)):\n",
    "        # construct a mask for the segment\n",
    "        mask = np.zeros(image.shape[:2], dtype = \"uint8\")\n",
    "        mask[segments == segVal] = 255\n",
    "        seg = cv2.bitwise_and(image, image, mask = mask)\n",
    "        r = cv2.bitwise_and(image, image, mask = mask)\n",
    "        masks.append(mask)\n",
    "        Regions.append(r)\n",
    "    masks = np.array(masks)\n",
    "    Regions = np.array(Regions)\n",
    "    return masks, Regions, segments"
   ]
  },
  {
   "cell_type": "code",
   "execution_count": 6,
   "metadata": {
    "collapsed": true
   },
   "outputs": [],
   "source": [
    "def view_segments(image, segments):\n",
    "    fig = plt.figure(\"Superpixels -- %d segments\" % (1000))\n",
    "    ax = fig.add_subplot(1, 1, 1)\n",
    "    ax.imshow(mark_boundaries(image, segments))\n",
    "    plt.axis(\"off\")\n",
    "\n",
    "    # show the plots\n",
    "    plt.show()"
   ]
  },
  {
   "cell_type": "code",
   "execution_count": 486,
   "metadata": {
    "collapsed": true
   },
   "outputs": [],
   "source": [
    "'''\n",
    "Get input images (kxk) for the CNN and their borders\n",
    "'''\n",
    "def get_images_borders(Regions, total_rows, k, total_cols):\n",
    "    input_images = []\n",
    "    all_coordinates = []\n",
    "    all_coordinates_extened = []\n",
    "#     for i in range(len(Regions)):\n",
    "    i = 0\n",
    "    for r in range(0,total_rows-k+1,k):\n",
    "        for c in range(0,total_cols-k+1,k):\n",
    "            input_images.append(Regions[i][r:r+k,c:c+k])\n",
    "            all_coordinates.append([(r,c),(r,c+k-1),(r+k-1,c+k-1),(r+k-1,c)])\n",
    "            i += 1\n",
    "                \n",
    "#     all_coordinates = np.array(all_coordinates)\n",
    "    input_images = np.array(input_images)\n",
    "    \n",
    "    input_images_f = []\n",
    "    all_coordinates_f = []\n",
    "    # Remove all zero images\n",
    "    for j in range(len(input_images)):\n",
    "        if not (input_images[j]==0).all():\n",
    "            input_images_f.append(input_images[j])\n",
    "            all_coordinates_f.append(all_coordinates[j])\n",
    "            all_coordinates_extened.extend(all_coordinates[j])\n",
    "    return input_images_f, all_coordinates_f, all_coordinates_extened"
   ]
  },
  {
   "cell_type": "code",
   "execution_count": 495,
   "metadata": {},
   "outputs": [],
   "source": [
    "def make_training_data(input_images, all_coordinates, xy_append):\n",
    "    training_data = [] # col 0 : Image, col 1 : Label;  Label = 1 => Text\n",
    "    for i in range(len(all_coordinates)):\n",
    "        data = []\n",
    "        coordinate = all_coordinates[i]\n",
    "        img = input_images[i]\n",
    "        data.append(img)\n",
    "        label = 0\n",
    "        for coord in coordinate:\n",
    "            point = Point(coord)\n",
    "            for text_block in xy_append:\n",
    "                polygon = Polygon(text_block) \n",
    "                if polygon.contains(point):\n",
    "                    label = 1\n",
    "                    break\n",
    "            if label == 1:\n",
    "                break\n",
    "        data.append(label)\n",
    "        training_data.append(data)\n",
    "    training_data = np.array(training_data)\n",
    "    return training_data"
   ]
  },
  {
   "cell_type": "code",
   "execution_count": 496,
   "metadata": {},
   "outputs": [],
   "source": [
    "'''\n",
    "Calling Functions\n",
    "'''\n",
    "image = read_image(\"d-006.jpg\") # Read Image\n",
    "\n",
    "masks, Regions, segments = SLIC(1000) # Perform SLIC into 1000 segments\n",
    "\n",
    "# view_segments(image, segments) # To Plot segments\n",
    "\n",
    "xy_extend, xy_append = get_xy_coordinates('d-006.xml') # Get (x,y) from the xml file\n",
    "\n",
    "k = np.count_nonzero(masks[0][0]) # Get dimension of input image (kxk)\n",
    "\n",
    "total_rows = Regions.shape[1]\n",
    "\n",
    "total_columns = Regions.shape[2]\n",
    "\n",
    "input_images, all_coordinates, all_coordinates_extened = get_images_borders(Regions, total_rows, k, total_cols)\n",
    "\n",
    "training_data = make_training_data(input_images, all_coordinates, xy_append)"
   ]
  },
  {
   "cell_type": "code",
   "execution_count": 500,
   "metadata": {},
   "outputs": [],
   "source": [
    "'''\n",
    "To Dump or load from pickle files\n",
    "'''\n",
    "# pickle_file = open('training_data.pkl', 'wb')\n",
    "# pickle.dump(training_data, pickle_file)\n",
    "# pickle_file.close()\n",
    "# input_images = pickle.load(open('input_images.pkl','r'))\n",
    "# all_coordinates = pickle.load(open('all_coordinates.pkl','r'))\n",
    "training_data = pickle.load(open('training_data.pkl','r'))"
   ]
  },
  {
   "cell_type": "code",
   "execution_count": 502,
   "metadata": {},
   "outputs": [
    {
     "data": {
      "text/plain": [
       "317"
      ]
     },
     "execution_count": 502,
     "metadata": {},
     "output_type": "execute_result"
    }
   ],
   "source": [
    "np.count_nonzero(training_data[:,1])"
   ]
  },
  {
   "cell_type": "code",
   "execution_count": null,
   "metadata": {
    "collapsed": true
   },
   "outputs": [],
   "source": []
  }
 ],
 "metadata": {
  "kernelspec": {
   "display_name": "Python 2",
   "language": "python",
   "name": "python2"
  },
  "language_info": {
   "codemirror_mode": {
    "name": "ipython",
    "version": 2
   },
   "file_extension": ".py",
   "mimetype": "text/x-python",
   "name": "python",
   "nbconvert_exporter": "python",
   "pygments_lexer": "ipython2",
   "version": "2.7.13"
  }
 },
 "nbformat": 4,
 "nbformat_minor": 2
}
