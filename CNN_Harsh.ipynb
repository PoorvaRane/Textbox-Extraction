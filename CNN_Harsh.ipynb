{
 "cells": [
  {
   "cell_type": "code",
   "execution_count": 1,
   "metadata": {
    "collapsed": true
   },
   "outputs": [],
   "source": [
    "# The architecture of our CNN is given in Figure 1. The structure\n",
    "# can be summarized as 10×10x1−26×26×4−100−M,\n",
    "# where M is the number of classes. The input is a grayscale\n",
    "# image patch. The size of the image patch is 28×28 pixels. Our\n",
    "# CNN architecture contains only one convolution layer which\n",
    "# consists of 4 kernels. The size of each kernel is 3 × 3 pixels.\n",
    "# Unlike other traditional CNN architecture, the pooling layer is\n",
    "# not used in our architecture. Then one fully connected layer\n",
    "# of 100 neurons follows the convolution layer. The last layer\n",
    "# consists of a logistic regression with softmax which outputs\n",
    "# the probability of each class, such that"
   ]
  },
  {
   "cell_type": "code",
   "execution_count": 2,
   "metadata": {
    "collapsed": true
   },
   "outputs": [],
   "source": [
    "from __future__ import print_function\n",
    "import torch\n",
    "import numpy as np\n",
    "from torch.autograd import Variable\n",
    "import torch.nn as nn\n",
    "import torch.nn.functional as F\n",
    "import torch.optim as optim\n",
    "import pickle\n",
    "from torch.utils.data import DataLoader\n",
    "import matplotlib.pyplot as plt\n",
    "import torchvision\n",
    "import cv2\n",
    "from PIL import Image"
   ]
  },
  {
   "cell_type": "code",
   "execution_count": 3,
   "metadata": {},
   "outputs": [],
   "source": [
    "'''\n",
    "Get train data\n",
    "'''\n",
    "# training_data = pickle.load(open('training_data.pkl','r'))\n",
    "training_data = pickle.load(open('train_data_new.pkl','r'))\n",
    "\n",
    "training_data = np.array(training_data)\n",
    "np.random.shuffle(training_data)"
   ]
  },
  {
   "cell_type": "code",
   "execution_count": 4,
   "metadata": {
    "collapsed": true
   },
   "outputs": [],
   "source": [
    "'''\n",
    "Get Validation data\n",
    "'''\n",
    "# validation_data = pickle.load(open('validation_data.pkl','r'))\n",
    "validation_data = pickle.load(open('validation_data_new.pkl','r'))\n",
    "\n",
    "validation_data = np.array(validation_data)"
   ]
  },
  {
   "cell_type": "code",
   "execution_count": 5,
   "metadata": {
    "collapsed": true
   },
   "outputs": [],
   "source": [
    "'''\n",
    "Get Test data\n",
    "'''\n",
    "# test_data = pickle.load(open('test_data.pkl','r'))\n",
    "test_data = pickle.load(open('test_data_new.pkl','r'))\n",
    "\n",
    "test_data = np.array(test_data)"
   ]
  },
  {
   "cell_type": "code",
   "execution_count": 6,
   "metadata": {
    "collapsed": true
   },
   "outputs": [],
   "source": [
    "class Net(nn.Module):\n",
    "\n",
    "    def __init__(self): # DO NOT HARDCODE\n",
    "        super(Net, self).__init__()\n",
    "        # 1 input image channel 10x10, 4 output channels, 3x3 square convolution\n",
    "        self.conv1 = nn.Conv2d(1, 4, 3)\n",
    "#         self.dropout = nn.Dropout(0.2)\n",
    "        # an affine operation: y = Wx + b\n",
    "#         self.fc1 = nn.Linear(4 * 8 * 8, 100)\n",
    "        self.fc1 = nn.Linear(4 * 12 * 12, 100)\n",
    "        self.fc2 = nn.Linear(100, 1) #Number of classes = 'text'\n",
    "        self.sigmoid = nn.Sigmoid()\n",
    "\n",
    "    def forward(self, x):\n",
    "        x = F.relu(self.conv1(x))\n",
    "        x = x.view(-1, self.num_flat_features(x))\n",
    "#         x = self.dropout(x)\n",
    "        x = F.relu(self.fc1(x))\n",
    "        x = self.fc2(x)\n",
    "        out = self.sigmoid(x)\n",
    "#         out = F.log_softmax(x)\n",
    "        return out\n",
    "\n",
    "    def num_flat_features(self, x):\n",
    "        size = x.size()[1:]  # all dimensions except the batch dimension\n",
    "        num_features = 1\n",
    "        for s in size:\n",
    "            num_features *= s\n",
    "        return num_features"
   ]
  },
  {
   "cell_type": "code",
   "execution_count": 9,
   "metadata": {
    "collapsed": true
   },
   "outputs": [],
   "source": [
    "# Preparing the data\n",
    "trainloader = DataLoader(training_data.tolist(), batch_size=1, shuffle=True)\n",
    "validloader = DataLoader(validation_data.tolist())\n",
    "testloader = DataLoader(test_data.tolist())"
   ]
  },
  {
   "cell_type": "code",
   "execution_count": 10,
   "metadata": {
    "collapsed": true
   },
   "outputs": [],
   "source": [
    "def validation_function(validloader, net, optimizer, criterion):\n",
    "    running_loss = 0.0\n",
    "    correct = 0\n",
    "    total = 0\n",
    "    net.eval()\n",
    "    for i, data in enumerate(validloader, 0):\n",
    "        # get the inputs\n",
    "        inputs, labels = data\n",
    "\n",
    "        # wrap them in Variable\n",
    "        inputs, labels_var = Variable(inputs.unsqueeze(0).float(), volatile=True), Variable(labels.float(), volatile=True)\n",
    "\n",
    "        outputs = net(inputs)\n",
    "        loss = criterion(outputs, labels_var.unsqueeze(-1))\n",
    "\n",
    "        # print statistics\n",
    "        running_loss += loss.data[0]\n",
    "        \n",
    "        predicted = torch.ge(outputs.data, torch.FloatTensor([0.5])) # Because batch size is 1\n",
    "#         _, predicted = torch.max(outputs.data, 1)\n",
    "        total += labels.size(0)\n",
    "        correct += (predicted.long() == labels).sum()\n",
    "    \n",
    "    print(\"******validation*** running_loss = \",running_loss/float(i+1))\n",
    "    print('Accuracy of the network on the 1728 validation images: %d %%' % (100 * correct / total))\n",
    "    "
   ]
  },
  {
   "cell_type": "code",
   "execution_count": 11,
   "metadata": {
    "collapsed": true
   },
   "outputs": [],
   "source": [
    "def test_function(testloader, net, optimizer, criterion):\n",
    "    running_loss = 0.0\n",
    "    correct = 0\n",
    "    total = 0\n",
    "    net.eval()\n",
    "    predicted_list = []\n",
    "    for i, data in enumerate(testloader, 0):\n",
    "        # get the inputs\n",
    "        inputs, labels = data\n",
    "\n",
    "        # wrap them in Variable\n",
    "#         inputs, labels_var = Variable(inputs.unsqueeze(0).float()), Variable(labels.long())\n",
    "        inputs, labels_var = Variable(inputs.unsqueeze(0).float()), Variable(labels.float())\n",
    "\n",
    "        outputs = net(inputs)\n",
    "#         loss = criterion(outputs, labels_var)\n",
    "        loss = criterion(outputs, labels_var.unsqueeze(-1))\n",
    "        \n",
    "        # print statistics\n",
    "        running_loss += loss.data[0]\n",
    "\n",
    "        predicted = torch.ge(outputs.data, torch.FloatTensor([0.5])) # Because batch size is 1\n",
    "#         _, predicted = torch.max(outputs.data, 1)\n",
    "        predicted_list.append(predicted)\n",
    "        total += labels.size(0)\n",
    "        correct += (predicted.long() == labels).sum()\n",
    "    \n",
    "    print(\"******test*** running_loss = \",running_loss/float(i+1))\n",
    "    print('Accuracy of the network on the 10368 test images: %d %%' % (100 * correct / total))\n",
    "    return predicted_list\n",
    "    "
   ]
  },
  {
   "cell_type": "code",
   "execution_count": 12,
   "metadata": {},
   "outputs": [],
   "source": [
    "def train_function(trainloader, net, optimizer, criterion):\n",
    "    running_loss = 0.0\n",
    "    correct = 0\n",
    "    total = 0\n",
    "    net.train()\n",
    "    \n",
    "    for i, data in enumerate(trainloader, 0):\n",
    "        # get the inputs\n",
    "        inputs, labels = data\n",
    "        \n",
    "        # wrap them in Variable\n",
    "        inputs, labels_var = Variable(inputs.unsqueeze(0).float()), Variable(labels.float())\n",
    "\n",
    "        # zero the parameter gradients\n",
    "        optimizer.zero_grad()\n",
    "\n",
    "        # forward + backward + optimize\n",
    "        outputs = net(inputs)\n",
    "        loss = criterion(outputs, labels_var.unsqueeze(-1))\n",
    "        loss.backward()\n",
    "        optimizer.step()\n",
    "\n",
    "        # print statistics\n",
    "        running_loss += loss.data.numpy()[0]\n",
    "    \n",
    "        predicted = torch.ge(outputs.data, torch.FloatTensor([0.5])) # Because batch size is 1\n",
    "#         _, predicted = torch.max(outputs.data, 1)\n",
    "        total += labels.size(0)\n",
    "        correct += (predicted.long() == labels).sum()\n",
    "    print(\"****** running_loss = \",running_loss/float(i+1))\n",
    "\n",
    "    print('Accuracy of the network on the 21643 train images: %d %%' % (100 * correct / total))\n",
    "    return "
   ]
  },
  {
   "cell_type": "code",
   "execution_count": 13,
   "metadata": {},
   "outputs": [
    {
     "name": "stdout",
     "output_type": "stream",
     "text": [
      "****** running_loss =  0.670638093567\n",
      "Accuracy of the network on the 21643 train images: 61 %\n",
      "******validation*** running_loss =  0.64688098778\n",
      "Accuracy of the network on the 1728 validation images: 65 %\n",
      "-----------------------------\n",
      "****** running_loss =  0.651444816306\n",
      "Accuracy of the network on the 21643 train images: 63 %\n",
      "******validation*** running_loss =  0.624656138411\n",
      "Accuracy of the network on the 1728 validation images: 66 %\n",
      "-----------------------------\n",
      "****** running_loss =  0.635574142445\n",
      "Accuracy of the network on the 21643 train images: 65 %\n",
      "******validation*** running_loss =  0.597281337315\n",
      "Accuracy of the network on the 1728 validation images: 70 %\n",
      "-----------------------------\n",
      "****** running_loss =  0.621352197161\n",
      "Accuracy of the network on the 21643 train images: 66 %\n",
      "******validation*** running_loss =  0.581506395484\n",
      "Accuracy of the network on the 1728 validation images: 72 %\n",
      "-----------------------------\n",
      "****** running_loss =  0.60116117146\n",
      "Accuracy of the network on the 21643 train images: 68 %\n",
      "******validation*** running_loss =  0.521261279512\n",
      "Accuracy of the network on the 1728 validation images: 76 %\n",
      "-----------------------------\n",
      "****** running_loss =  0.574233638773\n",
      "Accuracy of the network on the 21643 train images: 71 %\n",
      "******validation*** running_loss =  0.522757867225\n",
      "Accuracy of the network on the 1728 validation images: 74 %\n",
      "-----------------------------\n",
      "****** running_loss =  0.538255133505\n",
      "Accuracy of the network on the 21643 train images: 73 %\n",
      "******validation*** running_loss =  0.4555280197\n",
      "Accuracy of the network on the 1728 validation images: 78 %\n",
      "-----------------------------\n",
      "****** running_loss =  0.494856338991\n",
      "Accuracy of the network on the 21643 train images: 76 %\n",
      "******validation*** running_loss =  0.406533516681\n",
      "Accuracy of the network on the 1728 validation images: 81 %\n",
      "-----------------------------\n",
      "****** running_loss =  0.458307856249\n",
      "Accuracy of the network on the 21643 train images: 78 %\n",
      "******validation*** running_loss =  0.397370842323\n",
      "Accuracy of the network on the 1728 validation images: 81 %\n",
      "-----------------------------\n",
      "****** running_loss =  0.436608501488\n",
      "Accuracy of the network on the 21643 train images: 79 %\n",
      "******validation*** running_loss =  0.396710347997\n",
      "Accuracy of the network on the 1728 validation images: 81 %\n",
      "-----------------------------\n",
      "****** running_loss =  0.404155836325\n",
      "Accuracy of the network on the 21643 train images: 81 %\n",
      "******validation*** running_loss =  0.355771252037\n",
      "Accuracy of the network on the 1728 validation images: 83 %\n",
      "-----------------------------\n",
      "****** running_loss =  0.37773396822\n",
      "Accuracy of the network on the 21643 train images: 82 %\n",
      "******validation*** running_loss =  0.342430637528\n",
      "Accuracy of the network on the 1728 validation images: 85 %\n",
      "-----------------------------\n",
      "****** running_loss =  0.381416248484\n",
      "Accuracy of the network on the 21643 train images: 82 %\n",
      "******validation*** running_loss =  0.332901999539\n",
      "Accuracy of the network on the 1728 validation images: 85 %\n",
      "-----------------------------\n",
      "****** running_loss =  0.355951771662\n",
      "Accuracy of the network on the 21643 train images: 83 %\n",
      "******validation*** running_loss =  0.349368352932\n",
      "Accuracy of the network on the 1728 validation images: 84 %\n",
      "-----------------------------\n",
      "****** running_loss =  0.364195786077\n",
      "Accuracy of the network on the 21643 train images: 83 %\n",
      "******validation*** running_loss =  0.351702672087\n",
      "Accuracy of the network on the 1728 validation images: 84 %\n",
      "-----------------------------\n"
     ]
    }
   ],
   "source": [
    "# Training Phase\n",
    "net = Net()\n",
    "# criterion =  nn.NLLLoss() #nn.CrossEntropyLoss()\n",
    "criterion =  nn.BCELoss()\n",
    "# optimizer = optim.Adam(net.parameters(), lr=0.001)\n",
    "optimizer = optim.SGD(net.parameters(), lr=0.001)\n",
    "optimizer.zero_grad()\n",
    "\n",
    "for epoch in range(20):  # loop over the dataset multiple times\n",
    "    train_function(trainloader, net, optimizer, criterion)\n",
    "    validation_function(validloader, net, optimizer, criterion)\n",
    "#     predicted_list = test_function(testloader, net, optimizer, criterion)\n",
    "    print(\"-----------------------------\")"
   ]
  },
  {
   "cell_type": "code",
   "execution_count": null,
   "metadata": {
    "collapsed": true
   },
   "outputs": [],
   "source": []
  },
  {
   "cell_type": "code",
   "execution_count": null,
   "metadata": {
    "collapsed": true
   },
   "outputs": [],
   "source": []
  },
  {
   "cell_type": "code",
   "execution_count": null,
   "metadata": {
    "collapsed": true
   },
   "outputs": [],
   "source": []
  },
  {
   "cell_type": "code",
   "execution_count": null,
   "metadata": {
    "collapsed": true
   },
   "outputs": [],
   "source": []
  },
  {
   "cell_type": "code",
   "execution_count": 14,
   "metadata": {},
   "outputs": [
    {
     "ename": "NameError",
     "evalue": "name 'predicted_list' is not defined",
     "output_type": "error",
     "traceback": [
      "\u001b[0;31m---------------------------------------------------------------------------\u001b[0m",
      "\u001b[0;31mNameError\u001b[0m                                 Traceback (most recent call last)",
      "\u001b[0;32m<ipython-input-14-50b3a7acc8e9>\u001b[0m in \u001b[0;36m<module>\u001b[0;34m()\u001b[0m\n\u001b[1;32m      2\u001b[0m \u001b[0;34m\u001b[0m\u001b[0m\n\u001b[1;32m      3\u001b[0m \u001b[0mnew_pr\u001b[0m \u001b[0;34m=\u001b[0m \u001b[0;34m[\u001b[0m\u001b[0;34m]\u001b[0m\u001b[0;34m\u001b[0m\u001b[0m\n\u001b[0;32m----> 4\u001b[0;31m \u001b[0;32mfor\u001b[0m \u001b[0mpr\u001b[0m \u001b[0;32min\u001b[0m \u001b[0mpredicted_list\u001b[0m\u001b[0;34m:\u001b[0m\u001b[0;34m\u001b[0m\u001b[0m\n\u001b[0m\u001b[1;32m      5\u001b[0m     \u001b[0mnew_pr\u001b[0m\u001b[0;34m.\u001b[0m\u001b[0mappend\u001b[0m\u001b[0;34m(\u001b[0m\u001b[0mpr\u001b[0m\u001b[0;34m[\u001b[0m\u001b[0;36m0\u001b[0m\u001b[0;34m]\u001b[0m\u001b[0;34m)\u001b[0m\u001b[0;34m\u001b[0m\u001b[0m\n\u001b[1;32m      6\u001b[0m \u001b[0mnew_pr\u001b[0m \u001b[0;34m=\u001b[0m \u001b[0mnp\u001b[0m\u001b[0;34m.\u001b[0m\u001b[0marray\u001b[0m\u001b[0;34m(\u001b[0m\u001b[0mnew_pr\u001b[0m\u001b[0;34m)\u001b[0m\u001b[0;34m\u001b[0m\u001b[0m\n",
      "\u001b[0;31mNameError\u001b[0m: name 'predicted_list' is not defined"
     ]
    }
   ],
   "source": [
    "# IGNORE THE CODE FROM HERE\n",
    "\n",
    "new_pr = []\n",
    "for pr in predicted_list:\n",
    "    new_pr.append(pr[0])\n",
    "new_pr = np.array(new_pr) \n",
    "new_pr = new_pr.reshape(12,36,24)\n",
    "sample= np.array(new_pr[0])"
   ]
  },
  {
   "cell_type": "code",
   "execution_count": 55,
   "metadata": {},
   "outputs": [
    {
     "data": {
      "text/plain": [
       "0.6121809637888141"
      ]
     },
     "execution_count": 55,
     "metadata": {},
     "output_type": "execute_result"
    }
   ],
   "source": [
    "(len(predicted_list) - np.count_nonzero(y_Test))/float(len(predicted_list))"
   ]
  },
  {
   "cell_type": "code",
   "execution_count": 121,
   "metadata": {},
   "outputs": [
    {
     "data": {
      "text/plain": [
       "array([[\n",
       " 0\n",
       "[torch.LongTensor of size 1]\n",
       ",\n",
       "        \n",
       " 0\n",
       "[torch.LongTensor of size 1]\n",
       ",\n",
       "        \n",
       " 0\n",
       "[torch.LongTensor of size 1]\n",
       ", ...,\n",
       "        \n",
       " 1\n",
       "[torch.LongTensor of size 1]\n",
       ",\n",
       "        \n",
       " 1\n",
       "[torch.LongTensor of size 1]\n",
       ", \n",
       " 1\n",
       "[torch.LongTensor of size 1]\n",
       "],\n",
       "       [\n",
       " 0\n",
       "[torch.LongTensor of size 1]\n",
       ",\n",
       "        \n",
       " 0\n",
       "[torch.LongTensor of size 1]\n",
       ",\n",
       "        \n",
       " 1\n",
       "[torch.LongTensor of size 1]\n",
       ", ...,\n",
       "        \n",
       " 0\n",
       "[torch.LongTensor of size 1]\n",
       ",\n",
       "        \n",
       " 1\n",
       "[torch.LongTensor of size 1]\n",
       ", \n",
       " 1\n",
       "[torch.LongTensor of size 1]\n",
       "],\n",
       "       [\n",
       " 0\n",
       "[torch.LongTensor of size 1]\n",
       ",\n",
       "        \n",
       " 0\n",
       "[torch.LongTensor of size 1]\n",
       ",\n",
       "        \n",
       " 0\n",
       "[torch.LongTensor of size 1]\n",
       ", ...,\n",
       "        \n",
       " 0\n",
       "[torch.LongTensor of size 1]\n",
       ",\n",
       "        \n",
       " 0\n",
       "[torch.LongTensor of size 1]\n",
       ", \n",
       " 1\n",
       "[torch.LongTensor of size 1]\n",
       "],\n",
       "       ..., \n",
       "       [\n",
       " 1\n",
       "[torch.LongTensor of size 1]\n",
       ",\n",
       "        \n",
       " 0\n",
       "[torch.LongTensor of size 1]\n",
       ",\n",
       "        \n",
       " 0\n",
       "[torch.LongTensor of size 1]\n",
       ", ...,\n",
       "        \n",
       " 1\n",
       "[torch.LongTensor of size 1]\n",
       ",\n",
       "        \n",
       " 0\n",
       "[torch.LongTensor of size 1]\n",
       ", \n",
       " 0\n",
       "[torch.LongTensor of size 1]\n",
       "],\n",
       "       [\n",
       " 0\n",
       "[torch.LongTensor of size 1]\n",
       ",\n",
       "        \n",
       " 0\n",
       "[torch.LongTensor of size 1]\n",
       ",\n",
       "        \n",
       " 0\n",
       "[torch.LongTensor of size 1]\n",
       ", ...,\n",
       "        \n",
       " 1\n",
       "[torch.LongTensor of size 1]\n",
       ",\n",
       "        \n",
       " 0\n",
       "[torch.LongTensor of size 1]\n",
       ", \n",
       " 0\n",
       "[torch.LongTensor of size 1]\n",
       "],\n",
       "       [\n",
       " 0\n",
       "[torch.LongTensor of size 1]\n",
       ",\n",
       "        \n",
       " 1\n",
       "[torch.LongTensor of size 1]\n",
       ",\n",
       "        \n",
       " 0\n",
       "[torch.LongTensor of size 1]\n",
       ", ...,\n",
       "        \n",
       " 1\n",
       "[torch.LongTensor of size 1]\n",
       ",\n",
       "        \n",
       " 0\n",
       "[torch.LongTensor of size 1]\n",
       ", \n",
       " 0\n",
       "[torch.LongTensor of size 1]\n",
       "]], dtype=object)"
      ]
     },
     "execution_count": 121,
     "metadata": {},
     "output_type": "execute_result"
    }
   ],
   "source": [
    "predicted_list = np.array(predicted_list)\n",
    "predicted_list = predicted_list.reshape(12,864)\n",
    "predicted_list"
   ]
  },
  {
   "cell_type": "code",
   "execution_count": 150,
   "metadata": {},
   "outputs": [
    {
     "data": {
      "image/png": "[encoded data removed]",
      "text/plain": [
       "<matplotlib.figure.Figure at 0x11d0627d0>"
      ]
     },
     "metadata": {},
     "output_type": "display_data"
    }
   ],
   "source": [
    "plt.imshow(sample, interpolation='nearest', cmap = 'gray')\n",
    "plt.show()"
   ]
  },
  {
   "cell_type": "code",
   "execution_count": 90,
   "metadata": {},
   "outputs": [
    {
     "data": {
      "image/png": "[encoded data removed]",
      "text/plain": [
       "<matplotlib.figure.Figure at 0x12db8fad0>"
      ]
     },
     "metadata": {},
     "output_type": "display_data"
    }
   ],
   "source": [
    "\n",
    "\n",
    "f, axarr = plt.subplots(20, 20)\n",
    "for i in range(400):\n",
    "    axarr[i/20,i%20].imshow(im_values[i+30], interpolation='bilinear', cmap='gray')\n",
    "plt.show()"
   ]
  },
  {
   "cell_type": "code",
   "execution_count": 89,
   "metadata": {
    "collapsed": true
   },
   "outputs": [],
   "source": [
    "im_values = []\n",
    "for pred in predicted_list:\n",
    "    val = pred.numpy()\n",
    "    if val[0] == 1:\n",
    "        val[0] = 255\n",
    "        im = np.full((5, 5), 0)\n",
    "    else:\n",
    "        val[0] = 1\n",
    "        im = np.full((5, 5), 255)\n",
    "    \n",
    "    im_values.append(im)    "
   ]
  },
  {
   "cell_type": "code",
   "execution_count": null,
   "metadata": {
    "collapsed": true
   },
   "outputs": [],
   "source": []
  },
  {
   "cell_type": "code",
   "execution_count": null,
   "metadata": {
    "collapsed": true
   },
   "outputs": [],
   "source": []
  },
  {
   "cell_type": "code",
   "execution_count": null,
   "metadata": {
    "collapsed": true
   },
   "outputs": [],
   "source": []
  },
  {
   "cell_type": "code",
   "execution_count": null,
   "metadata": {
    "collapsed": true
   },
   "outputs": [],
   "source": []
  },
  {
   "cell_type": "code",
   "execution_count": null,
   "metadata": {
    "collapsed": true
   },
   "outputs": [],
   "source": []
  },
  {
   "cell_type": "code",
   "execution_count": 83,
   "metadata": {
    "collapsed": true
   },
   "outputs": [],
   "source": [
    "training_data = pickle.load(open('training_data.pkl','r'))\n",
    "\n",
    "training_data = np.array(training_data)\n",
    "\n",
    "X_Train = training_data[:,0]\n",
    "y_Train = training_data[:,1]\n",
    "\n",
    "N = len(X_Train)\n",
    "H = X_Train[0].shape[0]\n",
    "W = X_Train[0].shape[1]\n",
    "trainTensor = torch.LongTensor(N, H, W)\n",
    "for i in range(N):\n",
    "    trainTensor[i] = torch.LongTensor(X_Train[i].tolist())\n",
    "trainTensor = trainTensor.unsqueeze(1)"
   ]
  },
  {
   "cell_type": "code",
   "execution_count": 74,
   "metadata": {},
   "outputs": [
    {
     "data": {
      "text/plain": [
       "array([[109, 106, 105, 100,  98,  98,  98,  94,  95,  90],\n",
       "       [ 38,  48,  44,  32,  38,  35,  36,  29,  33,  29],\n",
       "       [ 24,  22,  24,  24,  21,  22,  22,  20,  19,  21],\n",
       "       [  8,   8,   7,   8,  10,  10,   8,   8,   9,   8],\n",
       "       [ 23,  21,  21,   8,  19,   3,  24,  30,  26,  22],\n",
       "       [  7,   7,   5,   4,   7,   9,   8,   7,   6,   7],\n",
       "       [  1,   0,   0,   0,   1,   7,   2,   2,   3,   1],\n",
       "       [ 13,   7,   3,   4,   2,   7,  11,   4,   9,   9],\n",
       "       [ 18,  23,  36,  18,  28,  28,  37,  47,  39,  50],\n",
       "       [ 24,  35,  31,  51,  10,  55,  66,  77,  67,  61]], dtype=uint8)"
      ]
     },
     "execution_count": 74,
     "metadata": {},
     "output_type": "execute_result"
    }
   ],
   "source": [
    "X_Train[0]"
   ]
  },
  {
   "cell_type": "code",
   "execution_count": null,
   "metadata": {
    "collapsed": true
   },
   "outputs": [],
   "source": []
  },
  {
   "cell_type": "code",
   "execution_count": 71,
   "metadata": {
    "collapsed": true
   },
   "outputs": [],
   "source": [
    "dataiter = iter(trainloader)\n",
    "images, labels = dataiter.next()"
   ]
  },
  {
   "cell_type": "code",
   "execution_count": 85,
   "metadata": {},
   "outputs": [
    {
     "data": {
      "text/plain": [
       "\n",
       "(0 ,.,.) = \n",
       "  109  106  105  100   98   98   98   94   95   90\n",
       "   38   48   44   32   38   35   36   29   33   29\n",
       "   24   22   24   24   21   22   22   20   19   21\n",
       "    8    8    7    8   10   10    8    8    9    8\n",
       "   23   21   21    8   19    3   24   30   26   22\n",
       "    7    7    5    4    7    9    8    7    6    7\n",
       "    1    0    0    0    1    7    2    2    3    1\n",
       "   13    7    3    4    2    7   11    4    9    9\n",
       "   18   23   36   18   28   28   37   47   39   50\n",
       "   24   35   31   51   10   55   66   77   67   61\n",
       "[torch.ByteTensor of size 1x10x10]"
      ]
     },
     "execution_count": 85,
     "metadata": {},
     "output_type": "execute_result"
    }
   ],
   "source": [
    "\n",
    "dataiter = iter(trainloader)\n",
    "images, label = dataiter.next()\n",
    "images"
   ]
  },
  {
   "cell_type": "code",
   "execution_count": 119,
   "metadata": {},
   "outputs": [
    {
     "data": {
      "text/plain": [
       "Variable containing:\n",
       "(0 ,0 ,.,.) = \n",
       "  244  247  238  233  232  218  229  228  214  231\n",
       "  229  239  245  212  216  228  212  216  210  222\n",
       "  226  225  233  219  236  222  233  235  234  229\n",
       "  238  233  242  232  235  227  233  229  230  232\n",
       "  240  237  226  229  226  234  208  234  218  231\n",
       "  231  226  232  231  214  219  228  238  223  217\n",
       "  191  212  191  226  214  159  186  220  211  213\n",
       "  236  232  227  226  217  185  223  208  216  208\n",
       "  229  224  228  233  227  219  226  208  217  208\n",
       "  221  230  217  221  232  225  232  220  202  215\n",
       "[torch.FloatTensor of size 1x1x10x10]"
      ]
     },
     "execution_count": 119,
     "metadata": {},
     "output_type": "execute_result"
    }
   ],
   "source": [
    "inputs"
   ]
  },
  {
   "cell_type": "code",
   "execution_count": 149,
   "metadata": {},
   "outputs": [
    {
     "data": {
      "text/plain": [
       "Variable containing:\n",
       " 0\n",
       " 1\n",
       "[torch.FloatTensor of size 2]"
      ]
     },
     "execution_count": 149,
     "metadata": {},
     "output_type": "execute_result"
    }
   ],
   "source": [
    "Variable(torch.arange(0, 2))"
   ]
  },
  {
   "cell_type": "code",
   "execution_count": 52,
   "metadata": {
    "collapsed": true
   },
   "outputs": [],
   "source": [
    "input_t= Variable(torch.randn(3, 5), requires_grad=True)"
   ]
  },
  {
   "cell_type": "code",
   "execution_count": 53,
   "metadata": {},
   "outputs": [
    {
     "data": {
      "text/plain": [
       "Variable containing:\n",
       " 0.3829  0.5494 -1.1376 -0.6053 -1.3948\n",
       " 0.0361 -0.4575  1.0598 -0.5977 -2.6812\n",
       "-1.4205 -1.7733 -0.0889  0.7921 -0.2184\n",
       "[torch.FloatTensor of size 3x5]"
      ]
     },
     "execution_count": 53,
     "metadata": {},
     "output_type": "execute_result"
    }
   ],
   "source": [
    "input_t"
   ]
  },
  {
   "cell_type": "code",
   "execution_count": null,
   "metadata": {
    "collapsed": true
   },
   "outputs": [],
   "source": []
  }
 ],
 "metadata": {
  "kernelspec": {
   "display_name": "Python 2",
   "language": "python",
   "name": "python2"
  },
  "language_info": {
   "codemirror_mode": {
    "name": "ipython",
    "version": 2
   },
   "file_extension": ".py",
   "mimetype": "text/x-python",
   "name": "python",
   "nbconvert_exporter": "python",
   "pygments_lexer": "ipython2",
   "version": "2.7.13"
  }
 },
 "nbformat": 4,
 "nbformat_minor": 1
}
